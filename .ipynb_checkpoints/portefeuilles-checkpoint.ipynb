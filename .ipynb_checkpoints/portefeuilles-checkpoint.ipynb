{
 "cells": [
  {
   "cell_type": "code",
   "execution_count": 3,
   "id": "c11c44ed-0126-44b2-aed2-155c48cea7bd",
   "metadata": {},
   "outputs": [],
   "source": [
    "import pandas as pd \n",
    "import numpy as np "
   ]
  },
  {
   "cell_type": "code",
   "execution_count": 10,
   "id": "458a7e03-851c-4165-97dc-9f0e2183b5ac",
   "metadata": {},
   "outputs": [],
   "source": [
    "portefeuilles = pd.read_csv(\"data/portefeuilles.csv\", sep= \";\")\n",
    "portefeuilles \n",
    "indexNames = portefeuilles[ portefeuilles['Ticker'] == 'vk.pa' ].index\n",
    "portefeuilles.drop(indexNames , inplace=True)"
   ]
  },
  {
   "cell_type": "code",
   "execution_count": 6,
   "id": "9ecf91e2-52cd-4a76-8b84-457f6ba2a32f",
   "metadata": {},
   "outputs": [
    {
     "data": {
      "text/plain": [
       "['MT',\n",
       " 'TKA.DE',\n",
       " 'vk.pa',\n",
       " 'NK.PA',\n",
       " 'SGO.PA',\n",
       " 'dow',\n",
       " 'solb.BR',\n",
       " 'SNY',\n",
       " 'mrk',\n",
       " 'ake.pa',\n",
       " 'ai.pa',\n",
       " 'lin',\n",
       " 'bur.pa',\n",
       " '1COV.DE',\n",
       " 'YAR.OL',\n",
       " 'DG.PA',\n",
       " 'EN.PA',\n",
       " 'FGR.PA',\n",
       " 'AMZN',\n",
       " 'DHLU.SI',\n",
       " 'BOL.PA',\n",
       " 'XPO',\n",
       " 'MAERSK-B.CO',\n",
       " 'AF.PA',\n",
       " 'or.PA',\n",
       " 'CA.PA',\n",
       " 'NGLOY',\n",
       " 'ERA.PA',\n",
       " 'BHP',\n",
       " 'RIO',\n",
       " 'VALE',\n",
       " 'OR.PA',\n",
       " 'MSFT',\n",
       " 'VZ',\n",
       " 'ATUS',\n",
       " 'VIE.PA',\n",
       " 'KMB',\n",
       " 'SKG.L',\n",
       " 'MNDI.L',\n",
       " 'STLA',\n",
       " 'RNO.PA',\n",
       " 'DTG.DE',\n",
       " 'VOLCAR-B.ST',\n",
       " 'ML.PA',\n",
       " 'HO.PA',\n",
       " 'AIR.PA',\n",
       " 'SAF.PA',\n",
       " 'FR.PA',\n",
       " 'NSANY']"
      ]
     },
     "execution_count": 6,
     "metadata": {},
     "output_type": "execute_result"
    }
   ],
   "source": [
    "ticker = portefeuilles['Ticker'].to_list()\n",
    "ticker"
   ]
  },
  {
   "cell_type": "code",
   "execution_count": 7,
   "id": "ddbbda7d-2128-48ae-81eb-37e87b176588",
   "metadata": {},
   "outputs": [],
   "source": [
    "from pandas_datareader import DataReader, get_quote_yahoo"
   ]
  },
  {
   "cell_type": "code",
   "execution_count": 8,
   "id": "74341ace-9d4b-4367-93e6-81e4d461ca48",
   "metadata": {},
   "outputs": [
    {
     "ename": "KeyError",
     "evalue": "'vk.pa'",
     "output_type": "error",
     "traceback": [
      "\u001b[1;31m---------------------------------------------------------------------------\u001b[0m",
      "\u001b[1;31mKeyError\u001b[0m                                  Traceback (most recent call last)",
      "File \u001b[1;32m~\\anaconda3\\lib\\site-packages\\pandas\\core\\indexes\\base.py:3621\u001b[0m, in \u001b[0;36mIndex.get_loc\u001b[1;34m(self, key, method, tolerance)\u001b[0m\n\u001b[0;32m   3620\u001b[0m \u001b[38;5;28;01mtry\u001b[39;00m:\n\u001b[1;32m-> 3621\u001b[0m     \u001b[38;5;28;01mreturn\u001b[39;00m \u001b[38;5;28;43mself\u001b[39;49m\u001b[38;5;241;43m.\u001b[39;49m\u001b[43m_engine\u001b[49m\u001b[38;5;241;43m.\u001b[39;49m\u001b[43mget_loc\u001b[49m\u001b[43m(\u001b[49m\u001b[43mcasted_key\u001b[49m\u001b[43m)\u001b[49m\n\u001b[0;32m   3622\u001b[0m \u001b[38;5;28;01mexcept\u001b[39;00m \u001b[38;5;167;01mKeyError\u001b[39;00m \u001b[38;5;28;01mas\u001b[39;00m err:\n",
      "File \u001b[1;32m~\\anaconda3\\lib\\site-packages\\pandas\\_libs\\index.pyx:136\u001b[0m, in \u001b[0;36mpandas._libs.index.IndexEngine.get_loc\u001b[1;34m()\u001b[0m\n",
      "File \u001b[1;32m~\\anaconda3\\lib\\site-packages\\pandas\\_libs\\index.pyx:163\u001b[0m, in \u001b[0;36mpandas._libs.index.IndexEngine.get_loc\u001b[1;34m()\u001b[0m\n",
      "File \u001b[1;32mpandas\\_libs\\hashtable_class_helper.pxi:5198\u001b[0m, in \u001b[0;36mpandas._libs.hashtable.PyObjectHashTable.get_item\u001b[1;34m()\u001b[0m\n",
      "File \u001b[1;32mpandas\\_libs\\hashtable_class_helper.pxi:5206\u001b[0m, in \u001b[0;36mpandas._libs.hashtable.PyObjectHashTable.get_item\u001b[1;34m()\u001b[0m\n",
      "\u001b[1;31mKeyError\u001b[0m: 'vk.pa'",
      "\nThe above exception was the direct cause of the following exception:\n",
      "\u001b[1;31mKeyError\u001b[0m                                  Traceback (most recent call last)",
      "Input \u001b[1;32mIn [8]\u001b[0m, in \u001b[0;36m<cell line: 1>\u001b[1;34m()\u001b[0m\n\u001b[1;32m----> 1\u001b[0m market_cap \u001b[38;5;241m=\u001b[39m \u001b[43mget_quote_yahoo\u001b[49m\u001b[43m(\u001b[49m\u001b[43mticker\u001b[49m\u001b[43m)\u001b[49m[\u001b[38;5;124m'\u001b[39m\u001b[38;5;124mmarketCap\u001b[39m\u001b[38;5;124m'\u001b[39m]\n\u001b[0;32m      2\u001b[0m market_cap\n",
      "File \u001b[1;32m~\\anaconda3\\lib\\site-packages\\pandas_datareader\\data.py:96\u001b[0m, in \u001b[0;36mget_quote_yahoo\u001b[1;34m(*args, **kwargs)\u001b[0m\n\u001b[0;32m     95\u001b[0m \u001b[38;5;28;01mdef\u001b[39;00m \u001b[38;5;21mget_quote_yahoo\u001b[39m(\u001b[38;5;241m*\u001b[39margs, \u001b[38;5;241m*\u001b[39m\u001b[38;5;241m*\u001b[39mkwargs):\n\u001b[1;32m---> 96\u001b[0m     \u001b[38;5;28;01mreturn\u001b[39;00m \u001b[43mYahooQuotesReader\u001b[49m\u001b[43m(\u001b[49m\u001b[38;5;241;43m*\u001b[39;49m\u001b[43margs\u001b[49m\u001b[43m,\u001b[49m\u001b[43m \u001b[49m\u001b[38;5;241;43m*\u001b[39;49m\u001b[38;5;241;43m*\u001b[39;49m\u001b[43mkwargs\u001b[49m\u001b[43m)\u001b[49m\u001b[38;5;241;43m.\u001b[39;49m\u001b[43mread\u001b[49m\u001b[43m(\u001b[49m\u001b[43m)\u001b[49m\n",
      "File \u001b[1;32m~\\anaconda3\\lib\\site-packages\\pandas_datareader\\yahoo\\quotes.py:53\u001b[0m, in \u001b[0;36mYahooQuotesReader.read\u001b[1;34m(self)\u001b[0m\n\u001b[0;32m     51\u001b[0m data \u001b[38;5;241m=\u001b[39m OrderedDict()\n\u001b[0;32m     52\u001b[0m \u001b[38;5;28;01mfor\u001b[39;00m symbol \u001b[38;5;129;01min\u001b[39;00m \u001b[38;5;28mself\u001b[39m\u001b[38;5;241m.\u001b[39msymbols:\n\u001b[1;32m---> 53\u001b[0m     data[symbol] \u001b[38;5;241m=\u001b[39m \u001b[38;5;28;43mself\u001b[39;49m\u001b[38;5;241;43m.\u001b[39;49m\u001b[43m_read_one_data\u001b[49m\u001b[43m(\u001b[49m\u001b[38;5;28;43mself\u001b[39;49m\u001b[38;5;241;43m.\u001b[39;49m\u001b[43murl\u001b[49m\u001b[43m,\u001b[49m\u001b[43m \u001b[49m\u001b[38;5;28;43mself\u001b[39;49m\u001b[38;5;241;43m.\u001b[39;49m\u001b[43mparams\u001b[49m\u001b[43m(\u001b[49m\u001b[43msymbol\u001b[49m\u001b[43m)\u001b[49m\u001b[43m)\u001b[49m\u001b[38;5;241;43m.\u001b[39;49m\u001b[43mloc\u001b[49m\u001b[43m[\u001b[49m\n\u001b[0;32m     54\u001b[0m \u001b[43m        \u001b[49m\u001b[43msymbol\u001b[49m\n\u001b[0;32m     55\u001b[0m \u001b[43m    \u001b[49m\u001b[43m]\u001b[49m\n\u001b[0;32m     56\u001b[0m \u001b[38;5;28;01mreturn\u001b[39;00m DataFrame\u001b[38;5;241m.\u001b[39mfrom_dict(data, orient\u001b[38;5;241m=\u001b[39m\u001b[38;5;124m\"\u001b[39m\u001b[38;5;124mindex\u001b[39m\u001b[38;5;124m\"\u001b[39m)\n",
      "File \u001b[1;32m~\\anaconda3\\lib\\site-packages\\pandas\\core\\indexing.py:967\u001b[0m, in \u001b[0;36m_LocationIndexer.__getitem__\u001b[1;34m(self, key)\u001b[0m\n\u001b[0;32m    964\u001b[0m axis \u001b[38;5;241m=\u001b[39m \u001b[38;5;28mself\u001b[39m\u001b[38;5;241m.\u001b[39maxis \u001b[38;5;129;01mor\u001b[39;00m \u001b[38;5;241m0\u001b[39m\n\u001b[0;32m    966\u001b[0m maybe_callable \u001b[38;5;241m=\u001b[39m com\u001b[38;5;241m.\u001b[39mapply_if_callable(key, \u001b[38;5;28mself\u001b[39m\u001b[38;5;241m.\u001b[39mobj)\n\u001b[1;32m--> 967\u001b[0m \u001b[38;5;28;01mreturn\u001b[39;00m \u001b[38;5;28;43mself\u001b[39;49m\u001b[38;5;241;43m.\u001b[39;49m\u001b[43m_getitem_axis\u001b[49m\u001b[43m(\u001b[49m\u001b[43mmaybe_callable\u001b[49m\u001b[43m,\u001b[49m\u001b[43m \u001b[49m\u001b[43maxis\u001b[49m\u001b[38;5;241;43m=\u001b[39;49m\u001b[43maxis\u001b[49m\u001b[43m)\u001b[49m\n",
      "File \u001b[1;32m~\\anaconda3\\lib\\site-packages\\pandas\\core\\indexing.py:1202\u001b[0m, in \u001b[0;36m_LocIndexer._getitem_axis\u001b[1;34m(self, key, axis)\u001b[0m\n\u001b[0;32m   1200\u001b[0m \u001b[38;5;66;03m# fall thru to straight lookup\u001b[39;00m\n\u001b[0;32m   1201\u001b[0m \u001b[38;5;28mself\u001b[39m\u001b[38;5;241m.\u001b[39m_validate_key(key, axis)\n\u001b[1;32m-> 1202\u001b[0m \u001b[38;5;28;01mreturn\u001b[39;00m \u001b[38;5;28;43mself\u001b[39;49m\u001b[38;5;241;43m.\u001b[39;49m\u001b[43m_get_label\u001b[49m\u001b[43m(\u001b[49m\u001b[43mkey\u001b[49m\u001b[43m,\u001b[49m\u001b[43m \u001b[49m\u001b[43maxis\u001b[49m\u001b[38;5;241;43m=\u001b[39;49m\u001b[43maxis\u001b[49m\u001b[43m)\u001b[49m\n",
      "File \u001b[1;32m~\\anaconda3\\lib\\site-packages\\pandas\\core\\indexing.py:1153\u001b[0m, in \u001b[0;36m_LocIndexer._get_label\u001b[1;34m(self, label, axis)\u001b[0m\n\u001b[0;32m   1151\u001b[0m \u001b[38;5;28;01mdef\u001b[39;00m \u001b[38;5;21m_get_label\u001b[39m(\u001b[38;5;28mself\u001b[39m, label, axis: \u001b[38;5;28mint\u001b[39m):\n\u001b[0;32m   1152\u001b[0m     \u001b[38;5;66;03m# GH#5667 this will fail if the label is not present in the axis.\u001b[39;00m\n\u001b[1;32m-> 1153\u001b[0m     \u001b[38;5;28;01mreturn\u001b[39;00m \u001b[38;5;28;43mself\u001b[39;49m\u001b[38;5;241;43m.\u001b[39;49m\u001b[43mobj\u001b[49m\u001b[38;5;241;43m.\u001b[39;49m\u001b[43mxs\u001b[49m\u001b[43m(\u001b[49m\u001b[43mlabel\u001b[49m\u001b[43m,\u001b[49m\u001b[43m \u001b[49m\u001b[43maxis\u001b[49m\u001b[38;5;241;43m=\u001b[39;49m\u001b[43maxis\u001b[49m\u001b[43m)\u001b[49m\n",
      "File \u001b[1;32m~\\anaconda3\\lib\\site-packages\\pandas\\core\\generic.py:3864\u001b[0m, in \u001b[0;36mNDFrame.xs\u001b[1;34m(self, key, axis, level, drop_level)\u001b[0m\n\u001b[0;32m   3862\u001b[0m             new_index \u001b[38;5;241m=\u001b[39m index[loc]\n\u001b[0;32m   3863\u001b[0m \u001b[38;5;28;01melse\u001b[39;00m:\n\u001b[1;32m-> 3864\u001b[0m     loc \u001b[38;5;241m=\u001b[39m \u001b[43mindex\u001b[49m\u001b[38;5;241;43m.\u001b[39;49m\u001b[43mget_loc\u001b[49m\u001b[43m(\u001b[49m\u001b[43mkey\u001b[49m\u001b[43m)\u001b[49m\n\u001b[0;32m   3866\u001b[0m     \u001b[38;5;28;01mif\u001b[39;00m \u001b[38;5;28misinstance\u001b[39m(loc, np\u001b[38;5;241m.\u001b[39mndarray):\n\u001b[0;32m   3867\u001b[0m         \u001b[38;5;28;01mif\u001b[39;00m loc\u001b[38;5;241m.\u001b[39mdtype \u001b[38;5;241m==\u001b[39m np\u001b[38;5;241m.\u001b[39mbool_:\n",
      "File \u001b[1;32m~\\anaconda3\\lib\\site-packages\\pandas\\core\\indexes\\base.py:3623\u001b[0m, in \u001b[0;36mIndex.get_loc\u001b[1;34m(self, key, method, tolerance)\u001b[0m\n\u001b[0;32m   3621\u001b[0m     \u001b[38;5;28;01mreturn\u001b[39;00m \u001b[38;5;28mself\u001b[39m\u001b[38;5;241m.\u001b[39m_engine\u001b[38;5;241m.\u001b[39mget_loc(casted_key)\n\u001b[0;32m   3622\u001b[0m \u001b[38;5;28;01mexcept\u001b[39;00m \u001b[38;5;167;01mKeyError\u001b[39;00m \u001b[38;5;28;01mas\u001b[39;00m err:\n\u001b[1;32m-> 3623\u001b[0m     \u001b[38;5;28;01mraise\u001b[39;00m \u001b[38;5;167;01mKeyError\u001b[39;00m(key) \u001b[38;5;28;01mfrom\u001b[39;00m \u001b[38;5;21;01merr\u001b[39;00m\n\u001b[0;32m   3624\u001b[0m \u001b[38;5;28;01mexcept\u001b[39;00m \u001b[38;5;167;01mTypeError\u001b[39;00m:\n\u001b[0;32m   3625\u001b[0m     \u001b[38;5;66;03m# If we have a listlike key, _check_indexing_error will raise\u001b[39;00m\n\u001b[0;32m   3626\u001b[0m     \u001b[38;5;66;03m#  InvalidIndexError. Otherwise we fall through and re-raise\u001b[39;00m\n\u001b[0;32m   3627\u001b[0m     \u001b[38;5;66;03m#  the TypeError.\u001b[39;00m\n\u001b[0;32m   3628\u001b[0m     \u001b[38;5;28mself\u001b[39m\u001b[38;5;241m.\u001b[39m_check_indexing_error(key)\n",
      "\u001b[1;31mKeyError\u001b[0m: 'vk.pa'"
     ]
    }
   ],
   "source": [
    "market_cap = get_quote_yahoo(ticker)['marketCap']\n",
    "market_cap"
   ]
  },
  {
   "cell_type": "code",
   "execution_count": null,
   "id": "4d16a7b3-33ce-4777-a30c-bf76cfea8ee5",
   "metadata": {},
   "outputs": [],
   "source": [
    "portefeuilles['Market capitalization'] = market_cap.values\n",
    "portefeuilles['Market capitalization'] = portefeuilles['Market capitalization'] / 1000000000\n",
    "portefeuilles"
   ]
  },
  {
   "cell_type": "code",
   "execution_count": null,
   "id": "b6ef6ffd-8459-499d-a65b-e7bf9e3e4c5c",
   "metadata": {},
   "outputs": [],
   "source": [
    "portefeuilles.set_index('Ticker' , inplace = True)\n",
    "portefeuilles.head()"
   ]
  },
  {
   "cell_type": "code",
   "execution_count": null,
   "id": "9206d8c3-e524-4f98-8493-47c54f24044a",
   "metadata": {},
   "outputs": [],
   "source": [
    "composantes = portefeuilles.groupby('Prime Standard Sector')['Market capitalization'].nlargest(1)\n",
    "composantes"
   ]
  },
  {
   "cell_type": "code",
   "execution_count": null,
   "id": "cde73ff2-ee25-4852-b55b-103ce82901b1",
   "metadata": {},
   "outputs": [],
   "source": [
    "composantes=composantes.reset_index()\n",
    "composantes"
   ]
  },
  {
   "cell_type": "code",
   "execution_count": null,
   "id": "89bf6d89-25e8-4174-83a6-696065799e5d",
   "metadata": {},
   "outputs": [],
   "source": [
    "composantes.sort_values(by = 'Market capitalization', ascending = False)"
   ]
  },
  {
   "cell_type": "code",
   "execution_count": null,
   "id": "016c994b-455f-4605-8b3c-00b526224a4e",
   "metadata": {},
   "outputs": [],
   "source": [
    "symbols = composantes['Ticker symbol'].to_list()\n",
    "symbols"
   ]
  },
  {
   "cell_type": "code",
   "execution_count": null,
   "id": "ad9864d3-20d4-4d8a-85ab-8015c48fac2f",
   "metadata": {},
   "outputs": [],
   "source": [
    "stocks_prices = DataReader(symbols, 'yahoo', start='2017-01-01')['Adj Close']\n",
    "stocks_prices"
   ]
  },
  {
   "cell_type": "code",
   "execution_count": null,
   "id": "cb143351-0e0d-4a05-a88e-0e59de0e1a8f",
   "metadata": {},
   "outputs": [],
   "source": [
    "import matplotlib.pyplot as plt\n",
    "\n",
    "stocks_prices.plot()\n",
    "\n",
    "plt.show()"
   ]
  },
  {
   "cell_type": "code",
   "execution_count": null,
   "id": "b74c17bb-40bf-4d6a-ac90-d38c0c7c3dbb",
   "metadata": {},
   "outputs": [],
   "source": [
    "def Normalize(data):\n",
    "    \n",
    "    x = data.copy()\n",
    "    for i in x.columns:\n",
    "        x[i] = x[i]/x[i][0]\n",
    "    return x"
   ]
  },
  {
   "cell_type": "code",
   "execution_count": null,
   "id": "b7d6ecb6-7b2a-4a1d-a1aa-a5f6aebed83c",
   "metadata": {},
   "outputs": [],
   "source": [
    "Normalize(stocks_prices)"
   ]
  },
  {
   "cell_type": "code",
   "execution_count": null,
   "id": "cd6d42d4-37de-4b68-b760-c94faa1316a2",
   "metadata": {},
   "outputs": [],
   "source": [
    "import plotly.express as px\n"
   ]
  },
  {
   "cell_type": "code",
   "execution_count": null,
   "id": "e27a8d8e-8038-470b-b304-fd5ec45ad0ec",
   "metadata": {},
   "outputs": [],
   "source": [
    "def plotly_plot (data, title): \n",
    "    fig = px.line(title = title)\n",
    "    for i in data.columns:\n",
    "        fig.add_scatter(x = data.index, y = data[i], name = i)\n",
    "    fig.show()"
   ]
  },
  {
   "cell_type": "code",
   "execution_count": null,
   "id": "c2424ee6-d855-4938-957e-e089f7930e1b",
   "metadata": {},
   "outputs": [],
   "source": [
    "plotly_plot(Normalize(stocks_prices), 'prix normalisé')"
   ]
  },
  {
   "cell_type": "code",
   "execution_count": null,
   "id": "1bcd643c-2ba9-47d4-86dd-30c290819655",
   "metadata": {},
   "outputs": [],
   "source": [
    "for col in stocks_prices.columns:\n",
    "    rendement = (stocks_prices[col][-1]-stocks_prices[col][0])/stocks_prices[col][0]\n",
    "    print(col, rendement, '%')"
   ]
  },
  {
   "cell_type": "code",
   "execution_count": null,
   "id": "9caf69bc-ab80-4d0f-9619-11aa8414f6d0",
   "metadata": {},
   "outputs": [],
   "source": [
    "n_days = 252"
   ]
  },
  {
   "cell_type": "code",
   "execution_count": null,
   "id": "151197a0-485a-4c15-8270-d277ba888c32",
   "metadata": {},
   "outputs": [],
   "source": [
    "returns = stocks_prices.pct_change()\n",
    "returns"
   ]
  },
  {
   "cell_type": "code",
   "execution_count": null,
   "id": "1c60f61c-ec38-412c-9ee0-973800f0824e",
   "metadata": {},
   "outputs": [],
   "source": [
    "returns = returns.dropna()\n",
    "returns"
   ]
  },
  {
   "cell_type": "code",
   "execution_count": null,
   "id": "a140ef85-2047-47fa-8c45-8714f5a83661",
   "metadata": {},
   "outputs": [],
   "source": [
    "plotly_plot(returns, ' Rendements journaliers des actions')"
   ]
  },
  {
   "cell_type": "code",
   "execution_count": null,
   "id": "5f556725-478d-42a9-943e-57ffaf0e5c40",
   "metadata": {},
   "outputs": [],
   "source": [
    "returns.corr()"
   ]
  },
  {
   "cell_type": "code",
   "execution_count": null,
   "id": "a81c1919-c89a-478a-96d5-92f4b26a6208",
   "metadata": {},
   "outputs": [],
   "source": []
  }
 ],
 "metadata": {
  "kernelspec": {
   "display_name": "Python 3 (ipykernel)",
   "language": "python",
   "name": "python3"
  },
  "language_info": {
   "codemirror_mode": {
    "name": "ipython",
    "version": 3
   },
   "file_extension": ".py",
   "mimetype": "text/x-python",
   "name": "python",
   "nbconvert_exporter": "python",
   "pygments_lexer": "ipython3",
   "version": "3.9.12"
  }
 },
 "nbformat": 4,
 "nbformat_minor": 5
}
